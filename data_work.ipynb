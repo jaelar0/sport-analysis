{
 "cells": [
  {
   "cell_type": "code",
   "execution_count": 3,
   "metadata": {},
   "outputs": [],
   "source": [
    "from creds import HOST_NAME, DB_NAME, USERNAME , PASSWORD \n",
    "import pandas as pd\n",
    "import psycopg\n",
    "import numpy as np\n",
    "import warnings\n",
    "warnings.filterwarnings(\"ignore\")\n",
    "\n",
    "def exec_query_os(query):\n",
    "    conn = psycopg.connect(\n",
    "        dbname=DB_NAME, user=USERNAME, password=PASSWORD, host=HOST_NAME, port=\"5432\"\n",
    "    )\n",
    "    df = pd.read_sql(query, conn)\n",
    "\n",
    "    conn.close()\n",
    "    return df\n",
    "\n",
    "def df_to_parquet(df, table_name):\n",
    "    df.to_parquet(f\"./output/{table_name}.parquet\", compression='gzip')\n"
   ]
  },
  {
   "cell_type": "markdown",
   "metadata": {},
   "source": [
    "## Reading NBA Data from db"
   ]
  },
  {
   "cell_type": "code",
   "execution_count": null,
   "metadata": {},
   "outputs": [],
   "source": [
    "game_box_df = exec_query_os(\"\"\"\n",
    "                SELECT *\n",
    "                FROM public.\"NBA_GAME_BOX_HIST\"\n",
    "                where season = 2024;\n",
    "            \"\"\")\n",
    "\n",
    "game_pbp_df = exec_query_os(\"\"\"\n",
    "                SELECT *\n",
    "                FROM public.\"NBA_PBP_HIST\"\n",
    "                where season = 2024;\n",
    "            \"\"\")\n",
    "\n",
    "player_box_df = exec_query_os(\"\"\"\n",
    "                SELECT *\n",
    "                FROM public.\"NBA_PLAYER_BOX_HIST\"\n",
    "                where season = 2024;\n",
    "            \"\"\")\n"
   ]
  },
  {
   "cell_type": "code",
   "execution_count": 5,
   "metadata": {},
   "outputs": [
    {
     "name": "stdout",
     "output_type": "stream",
     "text": [
      "(2628, 57)\n",
      "(611682, 64)\n",
      "(34867, 57)\n"
     ]
    }
   ],
   "source": [
    "print(game_box_df.shape)\n",
    "print(game_pbp_df.shape)\n",
    "print(player_box_df.shape)\n"
   ]
  },
  {
   "cell_type": "code",
   "execution_count": null,
   "metadata": {},
   "outputs": [],
   "source": []
  },
  {
   "cell_type": "code",
   "execution_count": null,
   "metadata": {},
   "outputs": [],
   "source": []
  }
 ],
 "metadata": {
  "kernelspec": {
   "display_name": ".venv",
   "language": "python",
   "name": "python3"
  },
  "language_info": {
   "codemirror_mode": {
    "name": "ipython",
    "version": 3
   },
   "file_extension": ".py",
   "mimetype": "text/x-python",
   "name": "python",
   "nbconvert_exporter": "python",
   "pygments_lexer": "ipython3",
   "version": "3.13.0"
  }
 },
 "nbformat": 4,
 "nbformat_minor": 2
}
